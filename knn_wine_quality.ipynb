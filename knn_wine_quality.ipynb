{
 "cells": [
  {
   "cell_type": "markdown",
   "metadata": {},
   "source": [
    "## CSCE 550 Project3"
   ]
  },
  {
   "cell_type": "markdown",
   "metadata": {},
   "source": [
    "### Importing the required libraries"
   ]
  },
  {
   "cell_type": "code",
   "execution_count": 1,
   "metadata": {},
   "outputs": [],
   "source": [
    "from sklearn.neighbors import KNeighborsClassifier \n",
    "from sklearn.model_selection import train_test_split \n",
    "import pandas as pd\n",
    "import numpy as np\n",
    "import matplotlib.pyplot as plt\n",
    "from sklearn.metrics import accuracy_score\n",
    "from sklearn.model_selection import GridSearchCV\n",
    "from sklearn.model_selection import cross_val_score\n",
    "import math\n",
    "import seaborn as sns\n",
    "import warnings\n",
    "warnings.filterwarnings(\"ignore\")\n",
    "from sklearn.preprocessing import StandardScaler"
   ]
  },
  {
   "cell_type": "markdown",
   "metadata": {},
   "source": [
    "### Importing the dataset as a dataframe"
   ]
  },
  {
   "cell_type": "code",
   "execution_count": 2,
   "metadata": {},
   "outputs": [],
   "source": [
    "def loadData(fileName, colNames):\n",
    "    wine_quality_df = pd.read_csv(fileName,names=colNames,skiprows=14)\n",
    "    return wine_quality_df"
   ]
  },
  {
   "cell_type": "markdown",
   "metadata": {},
   "source": [
    "### Building and training KNN model"
   ]
  },
  {
   "cell_type": "code",
   "execution_count": 3,
   "metadata": {},
   "outputs": [],
   "source": [
    "def knn(k, X_train,y_train ):\n",
    "    #Creating an instance of KNN Classifier\n",
    "    knn = KNeighborsClassifier(n_neighbors=k)\n",
    "    #Fitting the data to the model\n",
    "    knn.fit(X_train, y_train)\n",
    "    return knn"
   ]
  },
  {
   "cell_type": "markdown",
   "metadata": {},
   "source": [
    "###  Cross Validation"
   ]
  },
  {
   "cell_type": "code",
   "execution_count": 4,
   "metadata": {},
   "outputs": [],
   "source": [
    "def knnCrossValidation(k,T,X,y):\n",
    "    scores = cross_val_score(k, X, y, cv=T, scoring='accuracy')\n",
    "    print('Accuracies of each fold',scores)\n",
    "    print(\"Accuracy by Cross Validation: %0.2f (+/- %0.2f)\" % (scores.mean(), scores.std() * 2))"
   ]
  },
  {
   "cell_type": "markdown",
   "metadata": {},
   "source": [
    "### Performing Grid Search"
   ]
  },
  {
   "cell_type": "code",
   "execution_count": 5,
   "metadata": {},
   "outputs": [],
   "source": [
    "def knnGridSearch(T,R1,R2,X,y):\n",
    "    #create new a knn model\n",
    "    knn2 = KNeighborsClassifier()\n",
    "    #create a dictionary of all values we want to test for n_neighbors\n",
    "    param_grid = {'n_neighbors': np.arange(R1, R2+1)}\n",
    "    #use gridsearch to test all values for n_neighbors\n",
    "    knn_gscv = GridSearchCV(KNeighborsClassifier(), param_grid, cv=T,return_train_score=True,n_jobs=-1)\n",
    "    #fit model to data\n",
    "    knn_gscv.fit(X, y)\n",
    "    return knn_gscv"
   ]
  },
  {
   "cell_type": "markdown",
   "metadata": {},
   "source": [
    "### Comparing Train and Test Accuracy "
   ]
  },
  {
   "cell_type": "code",
   "execution_count": 6,
   "metadata": {},
   "outputs": [],
   "source": [
    "def plotGridSearchResults(scores):\n",
    "    pd.DataFrame(scores)\n",
    "    # plotting accuracies with max_depth\n",
    "    plt.figure()\n",
    "    plt.plot(scores[\"param_n_neighbors\"], scores[\"mean_train_score\"], label=\"train accuracy\")\n",
    "    plt.plot(scores[\"param_n_neighbors\"], scores[\"mean_test_score\"], label=\"test accuracy\")\n",
    "    plt.xlabel(\"param_n_neighbors\")\n",
    "    plt.ylabel(\"Accuracy\")\n",
    "    plt.legend()\n",
    "    plt.show()"
   ]
  },
  {
   "cell_type": "markdown",
   "metadata": {},
   "source": [
    "### Main Function"
   ]
  },
  {
   "cell_type": "code",
   "execution_count": 7,
   "metadata": {},
   "outputs": [],
   "source": [
    "def __main__(k,T,R1,R2):\n",
    "    fileName = \"wine_quality.csv\"\n",
    "    colNames = [\"fixedacid\",\"volacid\",\"citricacid\",\"residualsugar\",\"chlorides\",\"freesulfur\",\"totalsulfur\",\"density\",\"pH\",\"sulphates\",\"alcohol\",\"quality\"]\n",
    "    df = loadData(fileName,colNames)\n",
    "    #Checking the data\n",
    "    print(df.head())\n",
    "    #Checking the columns of the data\n",
    "    df.dropna(thresh=None,axis=0,inplace=True)\n",
    "    print(df.isna().sum())\n",
    "    #Removing outliers because test train split has to be done based on stratify=y\n",
    "    df = df[df.quality != 0]\n",
    "    df = df[df.quality != 11]\n",
    "    df[\"quality\"].value_counts()\n",
    "    #Deriving the data and target for model building\n",
    "    X = df.drop(\"quality\", axis=1)\n",
    "    y = df[\"quality\"]\n",
    "    #Splitting the data into train and test set\n",
    "    X_train, X_test, y_train, y_test = train_test_split(X, y, test_size = 0.2, random_state=123,stratify=y) \n",
    "    sc = StandardScaler()\n",
    "    X_train = sc.fit_transform(X_train)\n",
    "    X_test = sc.transform(X_test))\n",
    "    knn1 = knn(k, X_train, y_train)\n",
    "    #Predicting the output\n",
    "    y_pred = knn1.predict(X_test)\n",
    "    print('Accuracy by predict:',accuracy_score(y_test, y_pred) * 100)\n",
    "    #Accuracy score\n",
    "    print('Accuracy by KNN:',knn1.score(X_test, y_test) * 100)\n",
    "    #CrossValidation\n",
    "    knnCrossValidation(knn1,T, X_train, y_train)\n",
    "    #KNN GrideSearch\n",
    "    sc = StandardScaler()\n",
    "    X=sc.fit_transform(X)\n",
    "    #knn_gscv = knnGridSearch(T,R1,R2, X, y)\n",
    "    knn_gscv = knnGridSearch(T,R1,R2, X_train, y_train)\n",
    "    #Check top performing n_neighbors value\n",
    "    print('Best K:',knn_gscv.best_params_)\n",
    "    #check mean score for the top performing value of n_neighbors\n",
    "    print('Accuracy by optimize k:',knn_gscv.best_score_ * 100)\n",
    "    scores = knn_gscv.cv_results_\n",
    "    plotGridSearchResults(scores)"
   ]
  },
  {
   "cell_type": "code",
   "execution_count": 8,
   "metadata": {},
   "outputs": [
    {
     "name": "stdout",
     "output_type": "stream",
     "text": [
      "   fixedacid  volacid  citricacid  residualsugar  chlorides  freesulfur  \\\n",
      "0        7.0     0.27        0.36           20.7      0.045        45.0   \n",
      "1        7.2     0.23        0.32            8.5      0.058        47.0   \n",
      "2        7.2     0.23        0.32            8.5      0.058        47.0   \n",
      "3        7.0     0.27        0.36           20.7      0.045        45.0   \n",
      "4        6.3     0.30        0.34            1.6      0.049        14.0   \n",
      "\n",
      "   totalsulfur  density    pH  sulphates  alcohol  quality  \n",
      "0        170.0   1.0010  3.00       0.45      8.8      6.0  \n",
      "1        186.0   0.9956  3.19       0.40      9.9      6.0  \n",
      "2        186.0   0.9956  3.19       0.40      9.9      6.0  \n",
      "3        170.0   1.0010  3.00       0.45      8.8      6.0  \n",
      "4        132.0   0.9940  3.30       0.49      9.5      6.0  \n",
      "fixedacid        0\n",
      "volacid          0\n",
      "citricacid       0\n",
      "residualsugar    0\n",
      "chlorides        0\n",
      "freesulfur       0\n",
      "totalsulfur      0\n",
      "density          0\n",
      "pH               0\n",
      "sulphates        0\n",
      "alcohol          0\n",
      "quality          0\n",
      "dtype: int64\n",
      "Accuracy by predict: 54.48979591836734\n",
      "Accuracy by KNN: 54.48979591836734\n",
      "Accuracies of each fold [0.54846939 0.49744898 0.52806122 0.5994898  0.54846939 0.55867347\n",
      " 0.61989796 0.51785714 0.54219949 0.54475703]\n",
      "Accuracy by Cross Validation: 0.55 (+/- 0.07)\n",
      "Best K: {'n_neighbors': 1}\n",
      "Accuracy by optimize k: 63.45066287384519\n"
     ]
    },
    {
     "data": {
      "image/png": "[encoded data removed]",
      "text/plain": [
       "<Figure size 432x288 with 1 Axes>"
      ]
     },
     "metadata": {
      "needs_background": "light"
     },
     "output_type": "display_data"
    }
   ],
   "source": [
    "__main__(4,10,1,25)"
   ]
  },
  {
   "cell_type": "code",
   "execution_count": null,
   "metadata": {},
   "outputs": [],
   "source": [
    "    "
   ]
  }
 ],
 "metadata": {
  "kernelspec": {
   "display_name": "Python 3",
   "language": "python",
   "name": "python3"
  },
  "language_info": {
   "codemirror_mode": {
    "name": "ipython",
    "version": 3
   },
   "file_extension": ".py",
   "mimetype": "text/x-python",
   "name": "python",
   "nbconvert_exporter": "python",
   "pygments_lexer": "ipython3",
   "version": "3.7.6"
  }
 },
 "nbformat": 4,
 "nbformat_minor": 2
}
